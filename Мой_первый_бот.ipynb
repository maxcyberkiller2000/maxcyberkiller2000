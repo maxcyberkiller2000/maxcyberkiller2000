{
  "nbformat": 4,
  "nbformat_minor": 0,
  "metadata": {
    "colab": {
      "provenance": [],
      "authorship_tag": "ABX9TyOQRea5BFMLgYlqYc4bZxgp",
      "include_colab_link": true
    },
    "kernelspec": {
      "name": "python3",
      "display_name": "Python 3"
    },
    "language_info": {
      "name": "python"
    }
  },
  "cells": [
    {
      "cell_type": "markdown",
      "metadata": {
        "id": "view-in-github",
        "colab_type": "text"
      },
      "source": [
        "<a href=\"https://colab.research.google.com/github/maxcyberkiller2000/maxcyberkiller2000/blob/main/%D0%9C%D0%BE%D0%B9_%D0%BF%D0%B5%D1%80%D0%B2%D1%8B%D0%B9_%D0%B1%D0%BE%D1%82.ipynb\" target=\"_parent\"><img src=\"https://colab.research.google.com/assets/colab-badge.svg\" alt=\"Open In Colab\"/></a>"
      ]
    },
    {
      "cell_type": "code",
      "source": [
        "pip install pyTelegramBotAPI"
      ],
      "metadata": {
        "colab": {
          "base_uri": "https://localhost:8080/"
        },
        "id": "Svi4GLCR_pCO",
        "outputId": "4bce943c-45d7-42e9-f329-d828775fb469"
      },
      "execution_count": 6,
      "outputs": [
        {
          "output_type": "stream",
          "name": "stdout",
          "text": [
            "Requirement already satisfied: pyTelegramBotAPI in /usr/local/lib/python3.12/dist-packages (4.29.0)\n",
            "Requirement already satisfied: requests in /usr/local/lib/python3.12/dist-packages (from pyTelegramBotAPI) (2.32.4)\n",
            "Requirement already satisfied: charset_normalizer<4,>=2 in /usr/local/lib/python3.12/dist-packages (from requests->pyTelegramBotAPI) (3.4.3)\n",
            "Requirement already satisfied: idna<4,>=2.5 in /usr/local/lib/python3.12/dist-packages (from requests->pyTelegramBotAPI) (3.10)\n",
            "Requirement already satisfied: urllib3<3,>=1.21.1 in /usr/local/lib/python3.12/dist-packages (from requests->pyTelegramBotAPI) (2.5.0)\n",
            "Requirement already satisfied: certifi>=2017.4.17 in /usr/local/lib/python3.12/dist-packages (from requests->pyTelegramBotAPI) (2025.8.3)\n"
          ]
        }
      ]
    },
    {
      "cell_type": "code",
      "source": [
        "import telebot\n",
        "TOKEN = 'BOT_TOKEN'\n",
        "bot = telebot.TeleBot(TOKEN)\n",
        "\n",
        "# Основная клавиатура\n",
        "keyboard = telebot.types.ReplyKeyboardMarkup(resize_keyboard=True)\n",
        "keyboard.row('О клубе','Акции','Описание тарифов')\n",
        "keyboard.row('Игры', 'LanGame', 'Цены')\n",
        "keyboard.row('Описание комнат(Classic)', 'Описание комнат(DUO)', 'Описание комнат(TRIO)')\n",
        "\n",
        "# Клавиатура для выбора магазина приложений\n",
        "app_store_keyboard = telebot.types.ReplyKeyboardMarkup(resize_keyboard=True)\n",
        "app_store_keyboard.row('App Store', 'Google Play')\n",
        "\n",
        "# Обработчик приветствия\n",
        "@bot.message_handler(commands=['start'])\n",
        "def send_welcome(message):\n",
        "    bot.reply_to(message, \"Привет! Я бот Godji Cyber Lounge, опишу все о нашем клубе .\", reply_markup=keyboard)\n",
        "\n",
        "# Обработчик характеристик Classic ПК\n",
        "@bot.message_handler(func=lambda m: m.text == 'Описание комнат(Classic)')\n",
        "def infopcroom_vip(message):\n",
        "    reply = (\"Классические комнаты(Y,F,Q,X,W,R):\\n\"\n",
        "\n",
        "             \"– Комнаты (Y,F,Q) оснащены 5-ю компьютерами\\n\\n\"\n",
        "\n",
        "             \"– Комнаты (X,W) оснащены 4-мя компьютерами\\n\\n\"\n",
        "\n",
        "             \"– Комната(R) оснащенная 2-мя компьютерами\\n\\n\"\n",
        "\n",
        "             \" Характеристики компьютеров (Classic)\\n\"\n",
        "\n",
        "             \"– CPU: Intel Core i5-12400F\\n– GPU:NVIDIA RTX 4060 TI\\n– RAM:Kingston 32 ГБ 3200 МГц\\n– Монитор: Philips, FullHD, 240 HZ\\n– Клавиатура: ARDOR Gaming Kusarigama\\n– Мышь: ARDOR Gaming ULTA\\n– Наушники: Logitech G PRO X\"\n",
        "             )\n",
        "    bot.send_message(message.chat.id, reply, reply_markup=keyboard)\n",
        "\n",
        "#  Duo ПК\n",
        "@bot.message_handler(func=lambda m: m.text == 'Описание комнат(DUO)')\n",
        "def infopcroom_duo(message):\n",
        "    reply = (\"Комната DUO(L):\"\n",
        "             \"Комната DUO оснащена 2-мя компьютерами, сама комната выполнена в белом стиле, и белой переферией\\n\"\n",
        "             \"– CPU: Intel Core i5-12400F\\n– GPU:NVIDIA RTX 5060TI\\n– RAM: Kingston 32 ГБ 3200 МГц\\n– Монитор: MSI, 2К, 165 HZ\\n– Клавиатура: ARDOR Gaming Kusarigama\\n– Мышь: ARDOR Gaming ULTA\\n– Наушники: Razer BlackShark V2\")\n",
        "    bot.send_message(message.chat.id, reply, reply_markup=keyboard)\n",
        "\n",
        "#  Trio ПК\n",
        "@bot.message_handler(func=lambda m: m.text == 'Описание комнат(TRIO)')\n",
        "def infopcroom_trio(message):\n",
        "    reply = (\"Комната TRIO(О):\\n\"\n",
        "             \"Комната оснащена 3-мя компьютерами, в черном стиле, c черной переферией\\n\\n\"\n",
        "             \"Характеристики компьютера\\n\"\n",
        "             \"– CPU: Intel Core i5-12400F\\n– GPU:NVIDIA RTX 5060TI\\n– RAM: Kingston 32 ГБ 3200 МГц\\n– Монитор: MSI, 2К, 165 HZ\\n– Клавиатура: ARDOR Gaming Kusarigama\\n– Мышь: ARDOR Gaming ULTA\\n– Наушники: Razer BlackShark V2\")\n",
        "    bot.send_message(message.chat.id, reply, reply_markup=keyboard)\n",
        "\n",
        "# Обработчик списка игр\n",
        "@bot.message_handler(func=lambda m: m.text == 'Игры')\n",
        "def games_list(message):\n",
        "    reply = (\"Ea play & Steam\\n\"\n",
        "             \"— CS2\\n—  Dota 2\\n— Dead by Daylight\\n— RUST\\n— PUBG\\n— Hunt showdown 1896 и др . . .\\n\\n\"\n",
        "             \"BattleNet\\n— World of Warcraft\\n— Heartstone\\n— StarCraft II\\n— COD MW\\n— Heroes of the Storm\\n\\n\"\n",
        "             \"Epic Games\\n— Fortnite\\n— Genshin Impact\\n— Valorant\\n\\n\"\n",
        "             \"Внимание!\\n\"\n",
        "             \"Рекомендуем уточнить наличие других игр у  администратора клуба по рабочему номеру во вкладке «О клубе»\")\n",
        "\n",
        "    bot.send_message(message.chat.id, reply, reply_markup=keyboard)\n",
        "\n",
        "# Обработчик выбора магазина приложений\n",
        "@bot.message_handler(func=lambda m: m.text == 'LanGame')\n",
        "def lan_game(message):\n",
        "    reply = \"Выберите магазин приложений:\"\n",
        "    bot.send_message(message.chat.id, reply, reply_markup=app_store_keyboard)\n",
        "\n",
        "# Обработчик выбора магазина приложений\n",
        "@bot.message_handler(func=lambda m: m.text in ['App Store', 'Google Play'])\n",
        "def app_store(message):\n",
        "    if message.text == 'App Store':\n",
        "        reply = (\"Ссылка на приложение в App Store:\\n\"\n",
        "                \"https://apps.apple.com/ru/app/langame/id1642484175\\n\"\n",
        "                \"Чтобы зарегистрировать клубный аккаунт:\\n\\n\"\n",
        "                \"– Пройдите регистрацию в LanGame\\n\\n\"\n",
        "                \"– Далее нажмите на иконку лупы, выберите клуб по адресу Проспект красного знамени 37(Godji Cyber Lounge)\\n\\n\"\n",
        "                \"– Выбрав клуб нажмите на кнопку 'Забронировать'\\n\\n\"\n",
        "                \"– Выберите дату и время бронирования\\n\\n\"\n",
        "                \"– Выберите комнату и компьютер который вы хотите забронировать\\n\\n\"\n",
        "                  \"– Если вы бронируете несколько компьютеров, помните что для этого нужно чтобы у всех персон были зарегистрированны аккаунты в LanGame\\n\\n\"\n",
        "                \"– Выберите тариф(Описание всех тарифов смотрите в вкладке (Тарифы)\\n\\n\"\n",
        "                \"– Пополните баланс приложения\\n\\n\"\n",
        "                \"– Готово, ждем вас в нашем клубе:)\")\n",
        "    elif message.text == 'Google Play':\n",
        "        reply = (\"Ссылка на приложение в Google Play:\\n\"\n",
        "                \"https://play.google.com/store/apps/details?id=com.f5computers.langame_aggregator&pcampaignid=web_share\\n\"\n",
        "                \"Чтобы зарегистрировать клубный аккаунт:\\n\\n\"\n",
        "                \"– Пройдите регистрацию в LanGame\\n\\n\"\n",
        "                \"– Далее нажмите на иконку лупы, выберите клуб по адресу Проспект красного знамени 37(Godji Cyber Lounge)\\n\\n\"\n",
        "                \"– Выбрав клуб нажмите на кнопку 'Забронировать'\\n\\n\"\n",
        "                \"– Выберите дату и время бронирования\\n\\n\"\n",
        "                \"– Выберите комнату и компьютер который вы хотите забронировать\\n\\n\"\n",
        "                  \"– Если вы бронируете несколько компьютеров, помните что для этого нужно чтобы у всех персон были зарегистрированны аккаунты в LanGame\\n\\n\"\n",
        "                \"– Выберите тариф(Описание всех тарифов смотрите в вкладке (Тарифы)\\n\\n\"\n",
        "                \"– Пополните баланс приложения\\n\\n\"\n",
        "                \"– Готово, ждем вас в нашем клубе:)\")\n",
        "    bot.send_message(message.chat.id, reply, reply_markup=keyboard)\n",
        "# Описание Тарифа\n",
        "@bot.message_handler(func=lambda m: m.text == 'Описание тарифов')\n",
        "def games_list(message):\n",
        "    reply = (\"– Базовый(Время которое вы выбираете по своему желанию от 10 минут)\\n\\n\"\n",
        "             \"– Пакет 3 часа(Выбрать его можно в диапозоне времени с 08:00 до 19:00)\\n\\n\"\n",
        "             \"– Пакет 5 часов(Выбрать его можно в диапозоне времени с 08:00 до 17:00)\\n\\n\"\n",
        "             \"– Пакет ночь активируется с 22:00 и действуйт до 8 утра\\n(Внимание! При выходе из сессии после оплаты пакета ночь, деньги не возвращаются и сессия сгорает)\\n\\n\"\n",
        "             \"– Пакет 'Геймер' можно активировать в любое время суток на 10 часов\\n(Внимание! При выходе из сессии после оплаты пакета геймер, деньги не возвращаются и сессия сгорает)\\n\\n\")\n",
        "    bot.send_message(message.chat.id, reply, reply_markup=keyboard)\n",
        "# Акции\n",
        "@bot.message_handler(func=lambda m: m.text == 'Акции')\n",
        "def games_list(message):\n",
        "    reply = (\"Бонусная программа\\n\"\n",
        "             \"– 200 бонусов за отзыв в 2Гис;\\n\\n\"\n",
        "             \"– 100 бонусов за отзыв в LanGame\\n\\n\"\n",
        "             \"– 100 бонусов за полную регистрацию\\n\\n\"\n",
        "             \"Ссылка на 2Гис https://go.2gis.com/2vAk1\")\n",
        "    bot.send_message(message.chat.id, reply, reply_markup=keyboard)\n",
        "\n",
        "# Обработчик цен\n",
        "@bot.message_handler(func=lambda m: m.text == 'Цены')\n",
        "def prices(message):\n",
        "    image_url_vip = 'https://radikal.cloud/i/2025-08-31-13.35.41.ejK6yB'\n",
        "    image_url_duotrio = 'https://radikal.cloud/i/2025-08-31-13.35.32.ej43fe'\n",
        "    bot.send_photo(message.chat.id, photo=image_url_vip, reply_markup=keyboard)\n",
        "    bot.send_photo(message.chat.id, photo=image_url_duotrio, reply_markup=keyboard)\n",
        "\n",
        "@bot.message_handler(func=lambda m: m.text == 'О клубе')\n",
        "def games_list(message):\n",
        "    reply = (\"Мы компьютерный клуб в городе Владивосток по адресу проспект Красного Знамени 37, к нам можно добраться обойдя здание со стороны двора, черная дверь.\\n\\n\"\n",
        "             \"– В нашем клубе есть возможность заказать кальян\\n\\n\"\n",
        "             \"– Если возникнут трудности, вы всегда можете позвонить нам по рабочему телефону:\\n\"\n",
        "             \"+79341007799\\n\\n\"\n",
        "             \"– Либо же написать нам в наш телеграм\\n\"\n",
        "             \"https://t.me/godji_social\\n\\n\"\n",
        "             \"– Так же у нас есть собственный телеграм канал\\n\"\n",
        "             \"https://t.me/godji_vdk\")\n",
        "    bot.send_message(message.chat.id, reply, reply_markup=keyboard)\n",
        "\n",
        "# Основной цикл запуска бота\n",
        "if __name__ == \"__main__\":\n",
        "    print(\"Запускаю бота...\")\n",
        "    bot.polling(non_stop=True)"
      ],
      "metadata": {
        "colab": {
          "base_uri": "https://localhost:8080/"
        },
        "id": "_t5MWDi2jQP9",
        "outputId": "bd22d106-1732-46a8-95c4-4f1cea025231"
      },
      "execution_count": 7,
      "outputs": [
        {
          "output_type": "stream",
          "name": "stdout",
          "text": [
            "Запускаю бота...\n"
          ]
        }
      ]
    }
  ]
}